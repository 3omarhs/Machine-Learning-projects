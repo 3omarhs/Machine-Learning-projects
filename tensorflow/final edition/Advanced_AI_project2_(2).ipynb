{
  "nbformat": 4,
  "nbformat_minor": 0,
  "metadata": {
    "colab": {
      "name": "Advanced_AI_project2 (1).ipynb",
      "provenance": []
    },
    "kernelspec": {
      "name": "python3",
      "display_name": "Python 3"
    },
    "language_info": {
      "name": "python"
    }
  },
  "cells": [
    {
      "cell_type": "code",
      "source": [
        "# https://www.tensorflow.org/api_docs/python/tf/keras/datasets >> datasets in tf.keras"
      ],
      "metadata": {
        "id": "yefSF0sCfqu9"
      },
      "execution_count": 10,
      "outputs": []
    },
    {
      "cell_type": "code",
      "execution_count": 11,
      "metadata": {
        "id": "CqkCJkB7oQPw"
      },
      "outputs": [],
      "source": [
        "import tensorflow as tf\n",
        "from matplotlib import pyplot as plt\n",
        "import numpy as np"
      ]
    },
    {
      "cell_type": "code",
      "source": [
        "objects =  tf.keras.datasets.mnist\n",
        "(training_images, training_labels), (test_images, test_labels) = objects.load_data()"
      ],
      "metadata": {
        "id": "Qxoz_pT6oSX-"
      },
      "execution_count": 12,
      "outputs": []
    },
    {
      "cell_type": "code",
      "source": [
        "print(f'training_images: {training_images.shape}')  # Number of pixels\n",
        "print(f'training_labels: {training_labels.shape}')  # Number of pixels\n",
        "print(f'test_images: {test_images.shape}')  # Number of pixels\n",
        "print(f'test_labels: {test_labels.shape}')  # Number of pixels"
      ],
      "metadata": {
        "id": "Kuv8aXXbtDtf",
        "colab": {
          "base_uri": "https://localhost:8080/"
        },
        "outputId": "ea229bfe-9dc7-426e-c70a-2169bf7e76b0"
      },
      "execution_count": 13,
      "outputs": [
        {
          "output_type": "stream",
          "name": "stdout",
          "text": [
            "training_images: (60000, 28, 28)\n",
            "training_labels: (60000,)\n",
            "test_images: (10000, 28, 28)\n",
            "test_labels: (10000,)\n"
          ]
        }
      ]
    },
    {
      "cell_type": "code",
      "source": [
        "print(training_images.shape)\n",
        "# print(training_images[0])\n",
        "plt.imshow(test_images[56])"
      ],
      "metadata": {
        "id": "_kFB-aMroswC",
        "colab": {
          "base_uri": "https://localhost:8080/",
          "height": 300
        },
        "outputId": "96e71290-c8b9-4c2f-adbe-59588b8d09a1"
      },
      "execution_count": 14,
      "outputs": [
        {
          "output_type": "stream",
          "name": "stdout",
          "text": [
            "(60000, 28, 28)\n"
          ]
        },
        {
          "output_type": "execute_result",
          "data": {
            "text/plain": [
              "<matplotlib.image.AxesImage at 0x7f7e031d5ed0>"
            ]
          },
          "metadata": {},
          "execution_count": 14
        },
        {
          "output_type": "display_data",
          "data": {
            "text/plain": [
              "<Figure size 432x288 with 1 Axes>"
            ],
            "image/png": "[encoded data removed]"
          },
          "metadata": {
            "needs_background": "light"
          }
        }
      ]
    },
    {
      "cell_type": "code",
      "source": [
        "training_images  = training_images / 255.0    ## لتحويل القيم بين الصفر والواحد\n",
        "test_images = test_images / 255.0"
      ],
      "metadata": {
        "id": "N1LX9RwyouqB"
      },
      "execution_count": 15,
      "outputs": []
    },
    {
      "cell_type": "code",
      "source": [
        "model = tf.keras.models.Sequential([tf.keras.layers.Conv2D(filters=32, kernel_size=(3,3), activation='relu', input_shape=(28,28,1)),  # over the 2D input data,  kernel_size: حجم الـfilter, activation: Activation function(decide iof neuron is important or not)\n",
        "                                    tf.keras.layers.MaxPooling2D((2,2)),  # pooling (highest pixel in selected square & take its value..)\n",
        "                                    # tf.keras.layers.Conv2D(filters=32, kernel_size=(3,3), activation='relu'),\n",
        "                                    # tf.keras.layers.MaxPooling2D((2,2)),\n",
        "                                    tf.keras.layers.Flatten(),   # multi-dimensional tensors to single dimension.\n",
        "                                    tf.keras.layers.Dense(128, activation='relu'),  # deep connected NN layer (HL)\n",
        "                                    tf.keras.layers.Dense(10, activation=tf.nn.softmax)])  # output layer / sum(prob. of each neurons) = 1"
      ],
      "metadata": {
        "id": "LvM3yQxMo1y9"
      },
      "execution_count": 16,
      "outputs": []
    },
    {
      "cell_type": "code",
      "source": [
        "model.compile(optimizer = 'adam',  # AI Algorithm used\n",
        "              loss = 'sparse_categorical_crossentropy',  # scalar value (error) that we attempt to minimize during our training of the model, sparse_categorical_crossentropy: Training a neural network involves passing data forward, through the model, and comparing predictions with ground truth labels\n",
        "              metrics=['accuracy'])  # shown variable during each epoch in model training."
      ],
      "metadata": {
        "id": "i8cYFq7Wo3gb"
      },
      "execution_count": 17,
      "outputs": []
    },
    {
      "cell_type": "code",
      "source": [
        "model.fit(training_images, training_labels, epochs=50)"
      ],
      "metadata": {
        "colab": {
          "base_uri": "https://localhost:8080/"
        },
        "id": "AVZBg00jpAvA",
        "outputId": "6ba421b6-2dc2-4234-9a05-7aba5c65095c"
      },
      "execution_count": 18,
      "outputs": [
        {
          "output_type": "stream",
          "name": "stdout",
          "text": [
            "Epoch 1/50\n",
            "1875/1875 [==============================] - 25s 13ms/step - loss: 0.1586 - accuracy: 0.9520\n",
            "Epoch 2/50\n",
            "1875/1875 [==============================] - 22s 12ms/step - loss: 0.0573 - accuracy: 0.9820\n",
            "Epoch 3/50\n",
            "1875/1875 [==============================] - 21s 11ms/step - loss: 0.0359 - accuracy: 0.9888\n",
            "Epoch 4/50\n",
            "1875/1875 [==============================] - 21s 11ms/step - loss: 0.0236 - accuracy: 0.9920\n",
            "Epoch 5/50\n",
            "1875/1875 [==============================] - 22s 12ms/step - loss: 0.0155 - accuracy: 0.9952\n",
            "Epoch 6/50\n",
            "1875/1875 [==============================] - 22s 12ms/step - loss: 0.0123 - accuracy: 0.9959\n",
            "Epoch 7/50\n",
            "1875/1875 [==============================] - 20s 11ms/step - loss: 0.0090 - accuracy: 0.9970\n",
            "Epoch 8/50\n",
            "1875/1875 [==============================] - 21s 11ms/step - loss: 0.0069 - accuracy: 0.9974\n",
            "Epoch 9/50\n",
            "1875/1875 [==============================] - 24s 13ms/step - loss: 0.0063 - accuracy: 0.9980\n",
            "Epoch 10/50\n",
            "1875/1875 [==============================] - 21s 11ms/step - loss: 0.0051 - accuracy: 0.9984\n",
            "Epoch 11/50\n",
            "1875/1875 [==============================] - 22s 12ms/step - loss: 0.0041 - accuracy: 0.9987\n",
            "Epoch 12/50\n",
            "1875/1875 [==============================] - 20s 11ms/step - loss: 0.0034 - accuracy: 0.9990\n",
            "Epoch 13/50\n",
            "1875/1875 [==============================] - 23s 12ms/step - loss: 0.0043 - accuracy: 0.9987\n",
            "Epoch 14/50\n",
            "1875/1875 [==============================] - 21s 11ms/step - loss: 0.0027 - accuracy: 0.9991\n",
            "Epoch 15/50\n",
            "1875/1875 [==============================] - 21s 11ms/step - loss: 0.0040 - accuracy: 0.9985\n",
            "Epoch 16/50\n",
            "1875/1875 [==============================] - 20s 11ms/step - loss: 0.0029 - accuracy: 0.9990\n",
            "Epoch 17/50\n",
            "1875/1875 [==============================] - 22s 12ms/step - loss: 0.0014 - accuracy: 0.9995\n",
            "Epoch 18/50\n",
            "1875/1875 [==============================] - 20s 11ms/step - loss: 0.0029 - accuracy: 0.9991\n",
            "Epoch 19/50\n",
            "1875/1875 [==============================] - 21s 11ms/step - loss: 0.0024 - accuracy: 0.9992\n",
            "Epoch 20/50\n",
            "1875/1875 [==============================] - 20s 11ms/step - loss: 0.0023 - accuracy: 0.9990\n",
            "Epoch 21/50\n",
            "1875/1875 [==============================] - 21s 11ms/step - loss: 4.2898e-04 - accuracy: 0.9999\n",
            "Epoch 22/50\n",
            "1875/1875 [==============================] - 21s 11ms/step - loss: 4.5451e-05 - accuracy: 1.0000\n",
            "Epoch 23/50\n",
            "1875/1875 [==============================] - 20s 11ms/step - loss: 7.2738e-06 - accuracy: 1.0000\n",
            "Epoch 24/50\n",
            "1875/1875 [==============================] - 21s 11ms/step - loss: 3.5790e-06 - accuracy: 1.0000\n",
            "Epoch 25/50\n",
            "1875/1875 [==============================] - 21s 11ms/step - loss: 0.0030 - accuracy: 0.9992\n",
            "Epoch 26/50\n",
            "1875/1875 [==============================] - 21s 11ms/step - loss: 0.0026 - accuracy: 0.9991\n",
            "Epoch 27/50\n",
            "1875/1875 [==============================] - 20s 11ms/step - loss: 0.0014 - accuracy: 0.9997\n",
            "Epoch 28/50\n",
            "1875/1875 [==============================] - 21s 11ms/step - loss: 0.0029 - accuracy: 0.9990\n",
            "Epoch 29/50\n",
            "1875/1875 [==============================] - 23s 12ms/step - loss: 0.0011 - accuracy: 0.9996\n",
            "Epoch 30/50\n",
            "1875/1875 [==============================] - 27s 14ms/step - loss: 0.0021 - accuracy: 0.9991\n",
            "Epoch 31/50\n",
            "1875/1875 [==============================] - 22s 12ms/step - loss: 0.0013 - accuracy: 0.9995\n",
            "Epoch 32/50\n",
            "1875/1875 [==============================] - 22s 12ms/step - loss: 0.0011 - accuracy: 0.9997\n",
            "Epoch 33/50\n",
            "1875/1875 [==============================] - 23s 12ms/step - loss: 0.0012 - accuracy: 0.9996\n",
            "Epoch 34/50\n",
            "1875/1875 [==============================] - 23s 12ms/step - loss: 9.2873e-04 - accuracy: 0.9998\n",
            "Epoch 35/50\n",
            "1875/1875 [==============================] - 27s 14ms/step - loss: 0.0024 - accuracy: 0.9993\n",
            "Epoch 36/50\n",
            "1875/1875 [==============================] - 24s 13ms/step - loss: 0.0010 - accuracy: 0.9997\n",
            "Epoch 37/50\n",
            "1875/1875 [==============================] - 21s 11ms/step - loss: 9.6860e-04 - accuracy: 0.9997\n",
            "Epoch 38/50\n",
            "1875/1875 [==============================] - 22s 12ms/step - loss: 0.0014 - accuracy: 0.9996\n",
            "Epoch 39/50\n",
            "1875/1875 [==============================] - 21s 11ms/step - loss: 4.8939e-04 - accuracy: 0.9998\n",
            "Epoch 40/50\n",
            "1875/1875 [==============================] - 22s 12ms/step - loss: 0.0022 - accuracy: 0.9993\n",
            "Epoch 41/50\n",
            "1875/1875 [==============================] - 26s 14ms/step - loss: 0.0011 - accuracy: 0.9996\n",
            "Epoch 42/50\n",
            "1875/1875 [==============================] - 24s 13ms/step - loss: 0.0014 - accuracy: 0.9995\n",
            "Epoch 43/50\n",
            "1875/1875 [==============================] - 22s 12ms/step - loss: 0.0010 - accuracy: 0.9996\n",
            "Epoch 44/50\n",
            "1875/1875 [==============================] - 21s 11ms/step - loss: 6.4013e-04 - accuracy: 0.9998\n",
            "Epoch 45/50\n",
            "1875/1875 [==============================] - 21s 11ms/step - loss: 0.0016 - accuracy: 0.9995\n",
            "Epoch 46/50\n",
            "1875/1875 [==============================] - 21s 11ms/step - loss: 0.0019 - accuracy: 0.9996\n",
            "Epoch 47/50\n",
            "1875/1875 [==============================] - 24s 13ms/step - loss: 8.9290e-04 - accuracy: 0.9996\n",
            "Epoch 48/50\n",
            "1875/1875 [==============================] - 22s 12ms/step - loss: 1.6780e-04 - accuracy: 0.9999\n",
            "Epoch 49/50\n",
            "1875/1875 [==============================] - 21s 11ms/step - loss: 0.0015 - accuracy: 0.9996\n",
            "Epoch 50/50\n",
            "1875/1875 [==============================] - 21s 11ms/step - loss: 0.0017 - accuracy: 0.9995\n"
          ]
        },
        {
          "output_type": "execute_result",
          "data": {
            "text/plain": [
              "<keras.callbacks.History at 0x7f7e031cba10>"
            ]
          },
          "metadata": {},
          "execution_count": 18
        }
      ]
    },
    {
      "cell_type": "code",
      "source": [
        "model.evaluate(test_images, test_labels)   # Acuracy of testing."
      ],
      "metadata": {
        "colab": {
          "base_uri": "https://localhost:8080/"
        },
        "id": "klO_kWM1TFvl",
        "outputId": "fb0910f1-ed5c-4a07-bc22-c683751375f8"
      },
      "execution_count": 19,
      "outputs": [
        {
          "output_type": "stream",
          "name": "stdout",
          "text": [
            "313/313 [==============================] - 1s 3ms/step - loss: 0.1101 - accuracy: 0.9863\n"
          ]
        },
        {
          "output_type": "execute_result",
          "data": {
            "text/plain": [
              "[0.11008110642433167, 0.986299991607666]"
            ]
          },
          "metadata": {},
          "execution_count": 19
        }
      ]
    },
    {
      "cell_type": "code",
      "source": [
        "# print(model.evaluate(test_images,test_labels))  ## find model accuracy\n",
        "print(np.argmax(model.predict(test_images)[56]))  # return max element of the array."
      ],
      "metadata": {
        "id": "yrbJfB4TpCXJ",
        "colab": {
          "base_uri": "https://localhost:8080/"
        },
        "outputId": "981c65dd-7e95-40e5-c289-f7ec414313f2"
      },
      "execution_count": 26,
      "outputs": [
        {
          "output_type": "stream",
          "name": "stdout",
          "text": [
            "4\n"
          ]
        }
      ]
    },
    {
      "cell_type": "code",
      "source": [
        "labels_test = []\n",
        "labels_train = []\n",
        "for i in range(10):\n",
        "  labels_test.append(np.argmax(model.predict(test_images)[i]))\n",
        "  labels_train.append(np.argmax(model.predict(training_images)[i]))\n",
        "print(f'Testing: {labels_test}')\n",
        "print(f'Training: {labels_train}')"
      ],
      "metadata": {
        "id": "in7ySEtvrlm0",
        "colab": {
          "base_uri": "https://localhost:8080/"
        },
        "outputId": "866518c7-6a37-4891-b12f-bf71531a67dc"
      },
      "execution_count": 27,
      "outputs": [
        {
          "output_type": "stream",
          "name": "stdout",
          "text": [
            "Testing: [7, 2, 1, 0, 4, 1, 4, 9, 5, 9]\n",
            "Training: [5, 0, 4, 1, 9, 2, 1, 3, 1, 4]\n"
          ]
        }
      ]
    },
    {
      "cell_type": "code",
      "source": [
        "plt.figure(figsize=(10,7))\n",
        "plt.scatter(test_labels[:10]+0.1, labels_test , c='b', label=\"testing data\")\n",
        "# print(training_labels[:10])\n",
        "# print(labels_train)\n",
        "plt.scatter(training_labels[:10], labels_train , c='r', label=\"training data\")\n",
        "plt.legend()"
      ],
      "metadata": {
        "id": "4nxqwdq4z1G7",
        "colab": {
          "base_uri": "https://localhost:8080/",
          "height": 445
        },
        "outputId": "7ce7e9eb-7dc0-42cd-e916-4ad72c042872"
      },
      "execution_count": 30,
      "outputs": [
        {
          "output_type": "execute_result",
          "data": {
            "text/plain": [
              "<matplotlib.legend.Legend at 0x7f7e03042390>"
            ]
          },
          "metadata": {},
          "execution_count": 30
        },
        {
          "output_type": "display_data",
          "data": {
            "text/plain": [
              "<Figure size 720x504 with 1 Axes>"
            ],
            "image/png": "[encoded data removed]"
          },
          "metadata": {
            "needs_background": "light"
          }
        }
      ]
    },
    {
      "cell_type": "code",
      "source": [
        "test_Image = 56\n",
        "plt.imshow(test_images[test_Image])\n",
        "prediction=model.predict(test_images)\n",
        "print(np.argmax(prediction[test_Image]))"
      ],
      "metadata": {
        "colab": {
          "base_uri": "https://localhost:8080/",
          "height": 282
        },
        "id": "Q25Hf259pPGB",
        "outputId": "61871fe6-a3b0-48bd-de44-0301d245f445"
      },
      "execution_count": 23,
      "outputs": [
        {
          "output_type": "stream",
          "name": "stdout",
          "text": [
            "4\n"
          ]
        },
        {
          "output_type": "display_data",
          "data": {
            "text/plain": [
              "<Figure size 432x288 with 1 Axes>"
            ],
            "image/png": "[encoded data removed]"
          },
          "metadata": {
            "needs_background": "light"
          }
        }
      ]
    },
    {
      "cell_type": "code",
      "source": [
        "tf.keras.utils.plot_model(model, show_shapes=True)"
      ],
      "metadata": {
        "id": "IB2nftL9pSrd",
        "colab": {
          "base_uri": "https://localhost:8080/",
          "height": 644
        },
        "outputId": "7b37cc17-e513-4af5-8e33-9a2e9de8e2c1"
      },
      "execution_count": 24,
      "outputs": [
        {
          "output_type": "execute_result",
          "data": {
            "image/png": "[encoded data removed]",
            "text/plain": [
              "<IPython.core.display.Image object>"
            ]
          },
          "metadata": {},
          "execution_count": 24
        }
      ]
    },
    {
      "cell_type": "code",
      "source": [
        "model.summary()"
      ],
      "metadata": {
        "colab": {
          "base_uri": "https://localhost:8080/"
        },
        "id": "YTjXA61FAiH8",
        "outputId": "d1f9d20f-d3fd-4030-a4d3-acd4e2ac8d88"
      },
      "execution_count": 25,
      "outputs": [
        {
          "output_type": "stream",
          "name": "stdout",
          "text": [
            "Model: \"sequential_1\"\n",
            "_________________________________________________________________\n",
            " Layer (type)                Output Shape              Param #   \n",
            "=================================================================\n",
            " conv2d_2 (Conv2D)           (None, 26, 26, 32)        320       \n",
            "                                                                 \n",
            " max_pooling2d_2 (MaxPooling  (None, 13, 13, 32)       0         \n",
            " 2D)                                                             \n",
            "                                                                 \n",
            " flatten_1 (Flatten)         (None, 5408)              0         \n",
            "                                                                 \n",
            " dense_2 (Dense)             (None, 128)               692352    \n",
            "                                                                 \n",
            " dense_3 (Dense)             (None, 10)                1290      \n",
            "                                                                 \n",
            "=================================================================\n",
            "Total params: 693,962\n",
            "Trainable params: 693,962\n",
            "Non-trainable params: 0\n",
            "_________________________________________________________________\n"
          ]
        }
      ]
    }
  ]
}